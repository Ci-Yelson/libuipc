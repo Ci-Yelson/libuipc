{
 "cells": [
  {
   "cell_type": "code",
   "execution_count": null,
   "metadata": {},
   "outputs": [],
   "source": [
    "import sympy as sp\n",
    "import sys\n",
    "sys.path.append('../')\n",
    "import pathlib as pl\n",
    "from SymEigen import *\n",
    "from sympy import symbols\n",
    "from project_dir import backend_source_dir\n",
    "\n",
    "Gen = EigenFunctionGenerator()\n",
    "Gen.MacroBeforeFunction(\"__host__ __device__\")\n",
    "\n",
    "kappa = Eigen.Scalar(\"kappa\")\n",
    "x0_bar = Eigen.Vector(\"x0_bar\", 3)\n",
    "x1_bar = Eigen.Vector(\"x1_bar\", 3)\n",
    "x2_bar = Eigen.Vector(\"x2_bar\", 3)\n",
    "x3_bar = Eigen.Vector(\"x3_bar\", 3)\n",
    "\n",
    "\n",
    "def compute_J(xbar):\n",
    "    J = sp.Matrix.zeros(3,12)\n",
    "    J[0:3,0:3] = sp.eye(3)\n",
    "    J[0,3:6] = xbar.T\n",
    "    J[1,6:9] = xbar.T\n",
    "    J[2,9:12] = xbar.T\n",
    "    return J\n",
    "J0 = compute_J(x0_bar)\n",
    "J1 = compute_J(x1_bar)\n",
    "J2 = compute_J(x2_bar)\n",
    "J3 = compute_J(x3_bar)\n",
    "\n",
    "Cl = Gen.Closure(kappa, x0_bar, x1_bar, x2_bar, x3_bar)"
   ]
  },
  {
   "cell_type": "code",
   "execution_count": null,
   "metadata": {},
   "outputs": [],
   "source": [
    "Hess = kappa[0,0] * (J0.T@J1 + J2.T@J3)\n",
    "Hess"
   ]
  },
  {
   "cell_type": "code",
   "execution_count": null,
   "metadata": {},
   "outputs": [],
   "source": [
    "s = f'''// Affine Body Revolute Joint Energy\n",
    "{Cl(\"Hess\",Hess)}\n",
    "'''\n",
    "print(s)\n",
    "\n",
    "f = open(backend_source_dir('cuda') / 'affine_body/constitutions/sym/affine_body_revolute_joint.inl', 'w')\n",
    "f.write(s)\n",
    "f.close()"
   ]
  }
 ],
 "metadata": {
  "kernelspec": {
   "display_name": "base",
   "language": "python",
   "name": "python3"
  },
  "language_info": {
   "codemirror_mode": {
    "name": "ipython",
    "version": 3
   },
   "file_extension": ".py",
   "mimetype": "text/x-python",
   "name": "python",
   "nbconvert_exporter": "python",
   "pygments_lexer": "ipython3",
   "version": "3.12.7"
  }
 },
 "nbformat": 4,
 "nbformat_minor": 2
}
