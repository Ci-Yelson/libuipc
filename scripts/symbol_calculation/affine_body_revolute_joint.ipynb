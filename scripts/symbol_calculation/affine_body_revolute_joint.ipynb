{
 "cells": [
  {
   "cell_type": "code",
   "execution_count": 11,
   "metadata": {},
   "outputs": [],
   "source": [
    "import sympy as sp\n",
    "import sys\n",
    "sys.path.append('../')\n",
    "import pathlib as pl\n",
    "from SymEigen import *\n",
    "from sympy import symbols\n",
    "\n",
    "def compute_J(xbar):\n",
    "    J = sp.Matrix.zeros(3,12)\n",
    "    J[0:3,0:3] = sp.eye(3)\n",
    "    J[0,3:6] = xbar.T\n",
    "    J[1,6:9] = xbar.T\n",
    "    J[2,9:12] = xbar.T\n",
    "    return J\n",
    "\n",
    "q = Eigen.Vector('q', 24)\n",
    "q_a = q[0:12,:]\n",
    "q_b = q[12:24,:]\n",
    "\n",
    "X_a1 = Eigen.Vector('X_a1', 3)\n",
    "X_a2 = Eigen.Vector('X_a2', 3)\n",
    "\n",
    "X_b1 = Eigen.Vector('X_b1', 3)\n",
    "X_b2 = Eigen.Vector('X_b2', 3)\n",
    "\n",
    "Kappa = Eigen.Scalar('Kappa')\n",
    "\n",
    "x_a1 = compute_J(X_a1) * q_a\n",
    "x_a2 = compute_J(X_a2) * q_a\n",
    "\n",
    "x_b1 = compute_J(X_b1) * q_b\n",
    "x_b2 = compute_J(X_b2) * q_b\n",
    "\n",
    "E = Kappa/2 * ((x_a1 - x_b1).dot(x_a1 - x_b1) + (x_a2 - x_b2).dot(x_a2 - x_b2))"
   ]
  },
  {
   "cell_type": "code",
   "execution_count": 12,
   "metadata": {},
   "outputs": [],
   "source": [
    "dEdq = VecDiff(E, q)"
   ]
  },
  {
   "cell_type": "code",
   "execution_count": 13,
   "metadata": {},
   "outputs": [],
   "source": [
    "ddEddq = VecDiff(dEdq, q)"
   ]
  }
 ],
 "metadata": {
  "kernelspec": {
   "display_name": "Python 3",
   "language": "python",
   "name": "python3"
  },
  "language_info": {
   "codemirror_mode": {
    "name": "ipython",
    "version": 3
   },
   "file_extension": ".py",
   "mimetype": "text/x-python",
   "name": "python",
   "nbconvert_exporter": "python",
   "pygments_lexer": "ipython3",
   "version": "3.11.5"
  }
 },
 "nbformat": 4,
 "nbformat_minor": 2
}
